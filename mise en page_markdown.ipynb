{
 "cells": [
  {
   "cell_type": "markdown",
   "metadata": {},
   "source": [
    "# Mise en page d'un notebook avec Markdown"
   ]
  },
  {
   "cell_type": "markdown",
   "metadata": {},
   "source": [
    "Markdown est un langage basé sur le html permettant de mettre en page des cellules contenant du texte qu'on va placé entre les cellules de codes. \n",
    "\n",
    "Cela permet d'ajouter des consignes, des aides, des images ou des liens vers des ressources en lignes.\n",
    "\n",
    "On trouvera de la documentation [ici](https://jupyter-notebook.readthedocs.io/en/latest/examples/Notebook/Working%20With%20Markdown%20Cells.html)\n",
    "\n",
    "On peut également utiliser du code HTML qui permet d'obtenir des choses un peu plus élaborées, mais qui est un peu plus lourd à l'écriture.\n",
    "\n",
    "Je conseille de se préparer un fichier avec toutes les mises en page qu'on utilise dans ses exercices de manière à n'avoir plus qu'à copier / coller les cellules intéressante lorsqqu'on fait un nouveau notebook\n",
    "\n",
    "Les cellules suivantes sont des exemples, on peut double-cliquer dessus pour voir le code"
   ]
  },
  {
   "cell_type": "markdown",
   "metadata": {},
   "source": [
    "__SOMMAIRE__ <a id=\"monSommaire\"></a>\n",
    "\n",
    "[Mise en page de base](#Mise-en-page-de-base)\n",
    "\n",
    "[Liens exerternes](#Liens-externes) \n",
    "\n",
    "[Insérer une image](#Insérer-une-image-avec-son-url)\n",
    "\n",
    "[Liens internes](#Liens-internes) (qui renvoie vers une cellule du notebook)\n",
    "\n",
    "[Ecrire des maths avec LaTex](#Ecrire-des-maths-avec-LaTeX)\n",
    "\n",
    "[Les tableaux](#Les-tableaux)"
   ]
  },
  {
   "cell_type": "markdown",
   "metadata": {
    "tags": []
   },
   "source": [
    "## Mise en page de base"
   ]
  },
  {
   "cell_type": "markdown",
   "metadata": {},
   "source": [
    "#### On peut faire des listes de puces : \n",
    "* avec des \\*\n",
    "* très simplement"
   ]
  },
  {
   "cell_type": "markdown",
   "metadata": {},
   "source": [
    "#### La numérotation est encore plus simple: \n",
    "1. premier points \n",
    "2. deuxième point"
   ]
  },
  {
   "cell_type": "markdown",
   "metadata": {},
   "source": [
    "#### Gras ou italique\n",
    "\n",
    "On peut mettre du texte en __gras__ ou en *italique* ou même __*les deux*__"
   ]
  },
  {
   "cell_type": "markdown",
   "metadata": {},
   "source": [
    "#### Les titres\n",
    "* '#' Pour le titre de niveau 1\n",
    "* '##' pour le titre de niveau 2\n",
    "* etc"
   ]
  },
  {
   "cell_type": "markdown",
   "metadata": {},
   "source": [
    "__*Remarque :*__ Pour changer de paragraphe, il faut sauter une ligne dans le code\n",
    "\n",
    "Comme ceci, \n",
    "et pas comme cela"
   ]
  },
  {
   "cell_type": "markdown",
   "metadata": {},
   "source": [
    "## Liens externes"
   ]
  },
  {
   "cell_type": "markdown",
   "metadata": {},
   "source": [
    "[Lien vers la documentation](https://jupyter-notebook.readthedocs.io/en/latest/examples/Notebook/Working%20With%20Markdown%20Cells.html)"
   ]
  },
  {
   "cell_type": "markdown",
   "metadata": {},
   "source": [
    "## Liens internes"
   ]
  },
  {
   "cell_type": "markdown",
   "metadata": {},
   "source": [
    "#### Liens automatique vers les titres"
   ]
  },
  {
   "cell_type": "markdown",
   "metadata": {},
   "source": [
    "Pour faire un lien vers un titre, on utilise une syntaxe très proche de celle pour les liens externes, on remplace l'adresse par #Nom-du-tire-avec-des-tirets.\n",
    "\n",
    "Pratique si on a plusieurs exercices dont le nom n'est pas trop long\n",
    "Exemple : [lien vers le haut du notebook](#Mise-en-page-d'un-notebook-avec-Markdown)"
   ]
  },
  {
   "cell_type": "markdown",
   "metadata": {},
   "source": [
    "## Insérer une image avec son url\n",
    "\n",
    "Pour cela on reprend une syntaxe très similaire en ajoutant un '!' devant."
   ]
  },
  {
   "cell_type": "markdown",
   "metadata": {},
   "source": [
    "![nom de l'image si elle ne s'affiche pas](https://images.freeimages.com/images/large-previews/c36/tux-illustration-1165707.jpg)"
   ]
  },
  {
   "cell_type": "markdown",
   "metadata": {},
   "source": [
    "Bon cette image est énorme et si on veut la redimensionner, il faut passer par du html:"
   ]
  },
  {
   "cell_type": "markdown",
   "metadata": {},
   "source": [
    "<img src=\"https://images.freeimages.com/images/large-previews/c36/tux-illustration-1165707.jpg\" width=\"50\" heigh=\"50\">"
   ]
  },
  {
   "cell_type": "markdown",
   "metadata": {},
   "source": [
    "__Bon à savoir:__ si on n'indique qu'une seule dimension, l'autre s'ajuste pour conserver l'échelle"
   ]
  },
  {
   "cell_type": "markdown",
   "metadata": {},
   "source": [
    "## Liens vers une ancre nommée"
   ]
  },
  {
   "cell_type": "markdown",
   "metadata": {},
   "source": [
    "Pour cela, il faut utiliser un peut de html: la cellule du sommaire contient une ancre dont le nom est \"monSommaire\" __sans espace__ et avec la syntaxe précédente, on peut faire [un lien vers cette ancre](#monSommaire)"
   ]
  },
  {
   "cell_type": "markdown",
   "metadata": {},
   "source": [
    "[Retour vers le sommaire](#monSommaire)"
   ]
  },
  {
   "cell_type": "markdown",
   "metadata": {
    "tags": []
   },
   "source": [
    "## Ecrire des maths avec LaTeX\n",
    "\n",
    "Pour cela on utilise la syntaxe de LaTeX entre deux signes \"\\$\".\n",
    "\n",
    "Si on double les dollars, l'équation sera seule sur la ligne.\n",
    "\n",
    "Exemples: \n",
    "\n",
    "* $f(x) = a \\times x^2 + b \\times x + c$\n",
    "* Pour des calculs bien alignés:\n",
    "\n",
    "$$ \\begin{align}\n",
    "        x &= (a+b)^2 \\\\\n",
    "          &= a^2 + 2ab + b^2 \\\\\n",
    "          &= ...\n",
    "     \\end{align} $$"
   ]
  },
  {
   "cell_type": "markdown",
   "metadata": {},
   "source": [
    "### Les tableaux"
   ]
  },
  {
   "cell_type": "markdown",
   "metadata": {},
   "source": [
    "|x | y|\n",
    "|--|--|\n",
    "|1 | 2|\n",
    "|2 | 4|\n",
    "|3 | 6|\n",
    "|4 | 8|"
   ]
  },
  {
   "cell_type": "markdown",
   "metadata": {},
   "source": [
    "[Retour vers le sommaire](#monSommaire)"
   ]
  },
  {
   "cell_type": "markdown",
   "metadata": {},
   "source": [
    "## Aide et solution"
   ]
  },
  {
   "cell_type": "markdown",
   "metadata": {},
   "source": [
    "Pour les aides et les solutions on on utilise du html pour :\n",
    "* colorer les cellules\n",
    "* les rendre \"dépliantes\"\n",
    "\n",
    "Voici des exemples qu'on peut dans un premier temps copier / coller: "
   ]
  },
  {
   "cell_type": "markdown",
   "metadata": {
    "tags": []
   },
   "source": [
    "<div class=\"alert alert-block alert-danger\">\n",
    "\n",
    "__CONSIGNES GENERALES__\n",
    "*  Attention à bien __sauter une ligne__ et à vérifier qu'il n'y a __aucune indentation__\n",
    "* Les premières et dernière ligne du code sont en html\n",
    "</div>"
   ]
  },
  {
   "cell_type": "markdown",
   "metadata": {},
   "source": [
    "<div class=\"alert alert-block alert-info\">\n",
    "\n",
    "__Consignes__\n",
    "* Même chose mais avec \"alert-info\"\n",
    "* \n",
    "*\n",
    "*\n",
    "</div>"
   ]
  },
  {
   "cell_type": "markdown",
   "metadata": {
    "tags": []
   },
   "source": [
    "<div class=\"alert alert-block alert-success\">\n",
    "<details>\n",
    "<summary> <b> Aides </b> </summary>\n",
    "\n",
    "* Même contraintes pour le saut de ligne et l'indentation\n",
    "* On ajouter des lignes permettant d'obtenir cet effet \"dépliant\"\n",
    "\n",
    "</details>\n",
    "</div>"
   ]
  },
  {
   "cell_type": "markdown",
   "metadata": {
    "tags": []
   },
   "source": [
    "<div class=\"alert alert-block alert-warning\">\n",
    "<details>\n",
    "<summary> <b> solution </b> </summary>\n",
    "\n",
    "* Tout pareil\n",
    "* avec \"alert-warning\"\n",
    "* Algo :\n",
    "```\n",
    "for i in range(10):\n",
    "    t=t+1\n",
    "    a=i+t\n",
    "```\n",
    "\n",
    "</details>\n",
    "</div>"
   ]
  },
  {
   "cell_type": "markdown",
   "metadata": {},
   "source": [
    "[Retour vers le sommaire](#monSommaire)"
   ]
  },
  {
   "cell_type": "markdown",
   "metadata": {},
   "source": [
    "#### Uniquement en html (si comme moi on n'aime pas mélanger deux langages "
   ]
  },
  {
   "cell_type": "markdown",
   "metadata": {
    "tags": []
   },
   "source": [
    "<div class=\"alert alert-block alert-danger\">\n",
    "    <b>CONSIGNES GENERALES</b>\n",
    "    <ul>\n",
    "        <li>   </li>\n",
    "        <li>   </li>\n",
    "        <li>   </li>\n",
    "    </ul>\n",
    "</div>"
   ]
  },
  {
   "cell_type": "markdown",
   "metadata": {},
   "source": [
    "<div class=\"alert alert-block alert-info\">\n",
    "    <b> Consignes </b>\n",
    "    <ul>\n",
    "        <li>  </li>\n",
    "        <li>  </li>\n",
    "        <li>  </li>\n",
    "    </ul>\n",
    "</div>"
   ]
  },
  {
   "cell_type": "markdown",
   "metadata": {
    "tags": []
   },
   "source": [
    "<div class=\"alert alert-block alert-success\">\n",
    "    <details>\n",
    "        <summary> <b> Aides </b> </summary>\n",
    "        <ul>\n",
    "            <li>  </li>\n",
    "            <li>  </li>\n",
    "            <li>  </li>\n",
    "        </ul>\n",
    "    </details>\n",
    "</div>"
   ]
  },
  {
   "cell_type": "markdown",
   "metadata": {},
   "source": [
    "<div class=\"alert alert-block alert-warning\">\n",
    " <details>\n",
    "        <summary> <b> Solution </b> </summary>\n",
    "        <ul>\n",
    "            <li>  </li>\n",
    "            <li>  </li>\n",
    "            <li>  </li>\n",
    "        </ul>\n",
    "    </details>\n",
    "</div>"
   ]
  },
  {
   "cell_type": "markdown",
   "metadata": {},
   "source": [
    "[Retour vers le sommaire](#monSommaire)"
   ]
  }
 ],
 "metadata": {
  "kernelspec": {
   "display_name": "Python 3",
   "language": "python",
   "name": "python3"
  },
  "language_info": {
   "codemirror_mode": {
    "name": "ipython",
    "version": 3
   },
   "file_extension": ".py",
   "mimetype": "text/x-python",
   "name": "python",
   "nbconvert_exporter": "python",
   "pygments_lexer": "ipython3",
   "version": "3.8.5"
  }
 },
 "nbformat": 4,
 "nbformat_minor": 5
}
